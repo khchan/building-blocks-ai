{
 "cells": [
  {
   "cell_type": "markdown",
   "id": "ffd641ad-1c89-4f5a-aa7d-4d6930207060",
   "metadata": {
    "editable": true,
    "slideshow": {
     "slide_type": "slide"
    },
    "tags": []
   },
   "source": [
    "# Agenda\n",
    "\n",
    "1. Chat Completions\n",
    "   * Message Types\n",
    "   * Request Parameters\n",
    "   * Prompt Engineering\n",
    "   * Structured Output\n",
    "   * Tool Calling\n",
    "2. Retrieval Augmented Generation\n",
    "   * Vector Databases\n",
    "   * Visualizing Semantic Similarity\n",
    "   * Hybrid Search and Reranking\n",
    "3. Promptflow\n",
    "   * Anatomy of a flow\n",
    "   * Evaluations + Benchmarking\n"
   ]
  },
  {
   "cell_type": "markdown",
   "id": "e958072a-29b9-4f85-999b-b79664453277",
   "metadata": {
    "editable": true,
    "slideshow": {
     "slide_type": "slide"
    },
    "tags": []
   },
   "source": [
    "# Chat Completions"
   ]
  },
  {
   "cell_type": "markdown",
   "id": "cfc0c9ed-651b-4565-a133-02bd5bba8dcb",
   "metadata": {
    "editable": true,
    "slideshow": {
     "slide_type": "subslide"
    },
    "tags": []
   },
   "source": [
    "## Message Types"
   ]
  },
  {
   "cell_type": "code",
   "execution_count": null,
   "id": "816b97c4-fa49-49e4-94dd-d81b53395aa7",
   "metadata": {
    "editable": true,
    "slideshow": {
     "slide_type": "fragment"
    },
    "tags": []
   },
   "outputs": [],
   "source": [
    "print(\"hello world!\")"
   ]
  },
  {
   "cell_type": "markdown",
   "id": "150340c3-d5d4-4a9c-9802-49eb47f61673",
   "metadata": {
    "editable": true,
    "slideshow": {
     "slide_type": "subslide"
    },
    "tags": []
   },
   "source": [
    "## Request Parameters"
   ]
  },
  {
   "cell_type": "code",
   "execution_count": null,
   "id": "ee6e557f-669a-4b99-9f45-c1bd311c99a8",
   "metadata": {
    "editable": true,
    "slideshow": {
     "slide_type": "fragment"
    },
    "tags": []
   },
   "outputs": [],
   "source": [
    "print(\"hello world!\")"
   ]
  },
  {
   "cell_type": "markdown",
   "id": "d7740dad-5d58-448d-8195-641d5c2025b6",
   "metadata": {
    "editable": true,
    "slideshow": {
     "slide_type": "subslide"
    },
    "tags": []
   },
   "source": [
    "## Prompt Engineering"
   ]
  },
  {
   "cell_type": "code",
   "execution_count": null,
   "id": "ac080799-a123-472b-b2ca-144622a89c65",
   "metadata": {
    "editable": true,
    "slideshow": {
     "slide_type": "fragment"
    },
    "tags": []
   },
   "outputs": [],
   "source": [
    "print(\"hello world!\")"
   ]
  },
  {
   "cell_type": "markdown",
   "id": "cdfff9dc-3f02-4fb0-a67a-99f71b5fa0d5",
   "metadata": {
    "editable": true,
    "slideshow": {
     "slide_type": "subslide"
    },
    "tags": []
   },
   "source": [
    "## Structured Output"
   ]
  },
  {
   "cell_type": "code",
   "execution_count": null,
   "id": "8385ba2a-ea8f-4e53-a15c-cb2f31ebd595",
   "metadata": {
    "editable": true,
    "slideshow": {
     "slide_type": "fragment"
    },
    "tags": []
   },
   "outputs": [],
   "source": [
    "print(\"hello world!\")"
   ]
  },
  {
   "cell_type": "markdown",
   "id": "569925e3-3e5b-45a4-a7b3-a3326ef96680",
   "metadata": {
    "editable": true,
    "slideshow": {
     "slide_type": "subslide"
    },
    "tags": []
   },
   "source": [
    "## Tool Calling\n",
    "* Normal Tools with OpenAPI specs\n",
    "* Semantic Kernel Auto Tool Calling"
   ]
  },
  {
   "cell_type": "code",
   "execution_count": null,
   "id": "a1251f68-17f0-4e70-a443-8e2ed3715664",
   "metadata": {
    "editable": true,
    "slideshow": {
     "slide_type": "fragment"
    },
    "tags": []
   },
   "outputs": [],
   "source": [
    "print(\"hello world!\")"
   ]
  },
  {
   "cell_type": "markdown",
   "id": "4542871d-7616-4b80-bc66-5f0441868a1c",
   "metadata": {
    "editable": true,
    "slideshow": {
     "slide_type": "slide"
    },
    "tags": []
   },
   "source": [
    "# Retrieval Augmented Generation"
   ]
  },
  {
   "cell_type": "markdown",
   "id": "be75d336-0fe1-44ba-a176-763b632341c6",
   "metadata": {
    "editable": true,
    "slideshow": {
     "slide_type": "subslide"
    },
    "tags": []
   },
   "source": [
    "## Vector Databases"
   ]
  },
  {
   "cell_type": "code",
   "execution_count": null,
   "id": "0dcbccff-ad10-4c5e-889d-6996876a199c",
   "metadata": {
    "editable": true,
    "slideshow": {
     "slide_type": "fragment"
    },
    "tags": []
   },
   "outputs": [],
   "source": [
    "print(\"hello world!\")"
   ]
  },
  {
   "cell_type": "markdown",
   "id": "51ac467b-aafb-4067-b4d9-2812c27707a0",
   "metadata": {
    "editable": true,
    "slideshow": {
     "slide_type": "subslide"
    },
    "tags": []
   },
   "source": [
    "## Visualizing Semantic Similarity"
   ]
  },
  {
   "cell_type": "code",
   "execution_count": null,
   "id": "6498093e-d3b7-47ec-af17-730809b31c42",
   "metadata": {
    "editable": true,
    "slideshow": {
     "slide_type": "fragment"
    },
    "tags": []
   },
   "outputs": [],
   "source": [
    "print(\"hello world!\")"
   ]
  },
  {
   "cell_type": "markdown",
   "id": "406b1c91-85ea-4a1d-86bf-e4fdefec46bf",
   "metadata": {
    "editable": true,
    "slideshow": {
     "slide_type": "subslide"
    },
    "tags": []
   },
   "source": [
    "## Hybrid Search and Reranking"
   ]
  },
  {
   "cell_type": "code",
   "execution_count": null,
   "id": "2bd08a7c-abe9-4731-b4a7-b584d5165044",
   "metadata": {
    "editable": true,
    "slideshow": {
     "slide_type": "fragment"
    },
    "tags": []
   },
   "outputs": [],
   "source": [
    "print(\"hello world!\")"
   ]
  },
  {
   "cell_type": "markdown",
   "id": "8e687cd3-f64a-401f-bbcf-e43b2afe8edb",
   "metadata": {
    "editable": true,
    "slideshow": {
     "slide_type": "slide"
    },
    "tags": []
   },
   "source": [
    "# Promptflow"
   ]
  },
  {
   "cell_type": "markdown",
   "id": "20e1792a-0c8c-40c4-83cd-43de6ce54f3d",
   "metadata": {
    "editable": true,
    "slideshow": {
     "slide_type": "subslide"
    },
    "tags": []
   },
   "source": [
    "## Anatomy of a flow"
   ]
  },
  {
   "cell_type": "code",
   "execution_count": 1,
   "id": "fad28ac9-91ba-4bb9-855d-29cfbf168a9b",
   "metadata": {
    "editable": true,
    "slideshow": {
     "slide_type": "fragment"
    },
    "tags": []
   },
   "outputs": [
    {
     "name": "stdout",
     "output_type": "stream",
     "text": [
      "hello world\n"
     ]
    }
   ],
   "source": [
    "print(\"hello world\")"
   ]
  },
  {
   "cell_type": "markdown",
   "id": "9a3c3644-21f5-4929-b4d3-4e0ae6d7fd8f",
   "metadata": {
    "editable": true,
    "slideshow": {
     "slide_type": "subslide"
    },
    "tags": []
   },
   "source": [
    "## Evaluations + Benchmarking"
   ]
  },
  {
   "cell_type": "code",
   "execution_count": 1,
   "id": "5bd3c44a-7d75-4e70-bf92-760f75e759c7",
   "metadata": {
    "editable": true,
    "slideshow": {
     "slide_type": "fragment"
    },
    "tags": []
   },
   "outputs": [
    {
     "name": "stdout",
     "output_type": "stream",
     "text": [
      "hello world\n"
     ]
    }
   ],
   "source": [
    "print(\"hello world\")"
   ]
  }
 ],
 "metadata": {
  "kernelspec": {
   "display_name": "Python 3 (ipykernel)",
   "language": "python",
   "name": "python3"
  },
  "language_info": {
   "codemirror_mode": {
    "name": "ipython",
    "version": 3
   },
   "file_extension": ".py",
   "mimetype": "text/x-python",
   "name": "python",
   "nbconvert_exporter": "python",
   "pygments_lexer": "ipython3",
   "version": "3.10.9"
  },
  "toc": {
   "base_numbering": 1
  }
 },
 "nbformat": 4,
 "nbformat_minor": 5
}
